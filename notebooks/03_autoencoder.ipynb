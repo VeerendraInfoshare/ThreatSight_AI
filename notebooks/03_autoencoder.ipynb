{
 "cells": [
  {
   "cell_type": "code",
   "execution_count": 2,
   "id": "340a7ab6-32e5-428d-8525-2dcba6827e68",
   "metadata": {},
   "outputs": [],
   "source": [
    "import pandas as pd\n",
    "import numpy as np\n",
    "from sklearn.preprocessing import MinMaxScaler\n",
    "from sklearn.model_selection import train_test_split\n",
    "from tensorflow.keras.models import Model\n",
    "from tensorflow.keras.layers import Input, Dense\n",
    "from tensorflow.keras import regularizers\n",
    "import matplotlib.pyplot as plt"
   ]
  },
  {
   "cell_type": "code",
   "execution_count": 3,
   "id": "479e5e3c-c5a7-408c-a45f-85f377a84dcc",
   "metadata": {},
   "outputs": [
    {
     "name": "stdout",
     "output_type": "stream",
     "text": [
      "Python 3.10.18\n"
     ]
    }
   ],
   "source": [
    "!python --version"
   ]
  },
  {
   "cell_type": "code",
   "execution_count": 4,
   "id": "a0f63d57-b818-4d64-bc3e-76cbad3026c2",
   "metadata": {},
   "outputs": [
    {
     "data": {
      "text/html": [
       "<div>\n",
       "<style scoped>\n",
       "    .dataframe tbody tr th:only-of-type {\n",
       "        vertical-align: middle;\n",
       "    }\n",
       "\n",
       "    .dataframe tbody tr th {\n",
       "        vertical-align: top;\n",
       "    }\n",
       "\n",
       "    .dataframe thead th {\n",
       "        text-align: right;\n",
       "    }\n",
       "</style>\n",
       "<table border=\"1\" class=\"dataframe\">\n",
       "  <thead>\n",
       "    <tr style=\"text-align: right;\">\n",
       "      <th></th>\n",
       "      <th>ip</th>\n",
       "      <th>timestamp</th>\n",
       "      <th>method</th>\n",
       "      <th>url</th>\n",
       "      <th>status</th>\n",
       "      <th>bytes</th>\n",
       "      <th>referrer</th>\n",
       "      <th>user_agent</th>\n",
       "      <th>hour</th>\n",
       "      <th>day</th>\n",
       "      <th>weekday</th>\n",
       "      <th>url_length</th>\n",
       "      <th>anomaly_score</th>\n",
       "      <th>is_anomaly_if</th>\n",
       "    </tr>\n",
       "  </thead>\n",
       "  <tbody>\n",
       "    <tr>\n",
       "      <th>0</th>\n",
       "      <td>63.143.42.249</td>\n",
       "      <td>2021-11-30 15:08:14+03:00</td>\n",
       "      <td>GET</td>\n",
       "      <td>/</td>\n",
       "      <td>200</td>\n",
       "      <td>18648</td>\n",
       "      <td>http://promjet.ru</td>\n",
       "      <td>Mozilla/5.0+(compatible; UptimeRobot/2.0; http...</td>\n",
       "      <td>15</td>\n",
       "      <td>30</td>\n",
       "      <td>1</td>\n",
       "      <td>1</td>\n",
       "      <td>1</td>\n",
       "      <td>0</td>\n",
       "    </tr>\n",
       "    <tr>\n",
       "      <th>1</th>\n",
       "      <td>185.103.167.218</td>\n",
       "      <td>2021-11-30 15:10:19+03:00</td>\n",
       "      <td>GET</td>\n",
       "      <td>/jet/company/875.html</td>\n",
       "      <td>404</td>\n",
       "      <td>70695</td>\n",
       "      <td>-</td>\n",
       "      <td>Mozilla/5.0 (X11; Linux x86_64) AppleWebKit/53...</td>\n",
       "      <td>15</td>\n",
       "      <td>30</td>\n",
       "      <td>1</td>\n",
       "      <td>21</td>\n",
       "      <td>1</td>\n",
       "      <td>0</td>\n",
       "    </tr>\n",
       "    <tr>\n",
       "      <th>2</th>\n",
       "      <td>63.143.42.247</td>\n",
       "      <td>2021-11-30 15:10:34+03:00</td>\n",
       "      <td>HEAD</td>\n",
       "      <td>/</td>\n",
       "      <td>200</td>\n",
       "      <td>0</td>\n",
       "      <td>http://promjet.ru</td>\n",
       "      <td>Mozilla/5.0+(compatible; UptimeRobot/2.0; http...</td>\n",
       "      <td>15</td>\n",
       "      <td>30</td>\n",
       "      <td>1</td>\n",
       "      <td>1</td>\n",
       "      <td>1</td>\n",
       "      <td>0</td>\n",
       "    </tr>\n",
       "    <tr>\n",
       "      <th>3</th>\n",
       "      <td>93.84.69.87</td>\n",
       "      <td>2021-11-30 15:12:47+03:00</td>\n",
       "      <td>GET</td>\n",
       "      <td>/favicon.ico</td>\n",
       "      <td>200</td>\n",
       "      <td>0</td>\n",
       "      <td>-</td>\n",
       "      <td>Mozilla/5.0 (Windows NT 5.1; rv:52.0) Gecko/20...</td>\n",
       "      <td>15</td>\n",
       "      <td>30</td>\n",
       "      <td>1</td>\n",
       "      <td>12</td>\n",
       "      <td>1</td>\n",
       "      <td>0</td>\n",
       "    </tr>\n",
       "    <tr>\n",
       "      <th>4</th>\n",
       "      <td>93.84.69.87</td>\n",
       "      <td>2021-11-30 15:12:49+03:00</td>\n",
       "      <td>GET</td>\n",
       "      <td>/favicon.ico</td>\n",
       "      <td>200</td>\n",
       "      <td>0</td>\n",
       "      <td>-</td>\n",
       "      <td>Mozilla/5.0 (Windows NT 5.1; rv:52.0) Gecko/20...</td>\n",
       "      <td>15</td>\n",
       "      <td>30</td>\n",
       "      <td>1</td>\n",
       "      <td>12</td>\n",
       "      <td>1</td>\n",
       "      <td>0</td>\n",
       "    </tr>\n",
       "  </tbody>\n",
       "</table>\n",
       "</div>"
      ],
      "text/plain": [
       "                ip                  timestamp method                    url  \\\n",
       "0    63.143.42.249  2021-11-30 15:08:14+03:00    GET                      /   \n",
       "1  185.103.167.218  2021-11-30 15:10:19+03:00    GET  /jet/company/875.html   \n",
       "2    63.143.42.247  2021-11-30 15:10:34+03:00   HEAD                      /   \n",
       "3      93.84.69.87  2021-11-30 15:12:47+03:00    GET           /favicon.ico   \n",
       "4      93.84.69.87  2021-11-30 15:12:49+03:00    GET           /favicon.ico   \n",
       "\n",
       "   status  bytes           referrer  \\\n",
       "0     200  18648  http://promjet.ru   \n",
       "1     404  70695                  -   \n",
       "2     200      0  http://promjet.ru   \n",
       "3     200      0                  -   \n",
       "4     200      0                  -   \n",
       "\n",
       "                                          user_agent  hour  day  weekday  \\\n",
       "0  Mozilla/5.0+(compatible; UptimeRobot/2.0; http...    15   30        1   \n",
       "1  Mozilla/5.0 (X11; Linux x86_64) AppleWebKit/53...    15   30        1   \n",
       "2  Mozilla/5.0+(compatible; UptimeRobot/2.0; http...    15   30        1   \n",
       "3  Mozilla/5.0 (Windows NT 5.1; rv:52.0) Gecko/20...    15   30        1   \n",
       "4  Mozilla/5.0 (Windows NT 5.1; rv:52.0) Gecko/20...    15   30        1   \n",
       "\n",
       "   url_length  anomaly_score  is_anomaly_if  \n",
       "0           1              1              0  \n",
       "1          21              1              0  \n",
       "2           1              1              0  \n",
       "3          12              1              0  \n",
       "4          12              1              0  "
      ]
     },
     "execution_count": 4,
     "metadata": {},
     "output_type": "execute_result"
    }
   ],
   "source": [
    "# Load data\n",
    "df = pd.read_csv('../data/processed/with_isolation_forest.csv')\n",
    "df.head()"
   ]
  },
  {
   "cell_type": "code",
   "execution_count": 5,
   "id": "7e03c195-4586-4320-b95d-0c9ad092b140",
   "metadata": {},
   "outputs": [],
   "source": [
    "# Select same features\n",
    "features = ['hour', 'weekday', 'url_length']\n",
    "X = df[features]"
   ]
  },
  {
   "cell_type": "code",
   "execution_count": 6,
   "id": "baec8cb7-5295-4feb-b56a-4810ca3cfcd0",
   "metadata": {},
   "outputs": [],
   "source": [
    "# Normalize the data\n",
    "scaler = MinMaxScaler()\n",
    "X_scaled = scaler.fit_transform(X)"
   ]
  },
  {
   "cell_type": "code",
   "execution_count": 7,
   "id": "6d5927ea-1632-41c3-bc66-f6324b820e05",
   "metadata": {},
   "outputs": [],
   "source": [
    "# Split for training (assume most data is normal)\n",
    "X_train, X_val = train_test_split(X_scaled, test_size=0.2, random_state=42)"
   ]
  },
  {
   "cell_type": "code",
   "execution_count": 8,
   "id": "f0ec9d5c-9e66-4bf9-8d85-3a37b09d63a1",
   "metadata": {},
   "outputs": [],
   "source": [
    "# Autoencoder architecture\n",
    "input_dim = X_train.shape[1]\n",
    "input_layer = Input(shape=(input_dim,))\n",
    "encoded = Dense(8, activation='relu',activity_regularizer=regularizers.l1(1e-5))(input_layer)\n",
    "encoded = Dense(4, activation='relu')(encoded)\n",
    "decoded = Dense(8, activation='relu')(encoded)\n",
    "decoded = Dense(input_dim, activation='sigmoid')(decoded)\n",
    "\n",
    "autoencoder = Model(inputs=input_layer, outputs=decoded)\n",
    "autoencoder.compile(optimizer='adam', loss='mse')"
   ]
  },
  {
   "cell_type": "code",
   "execution_count": 9,
   "id": "78d191ba-c86f-4724-916b-a2c9af60211f",
   "metadata": {},
   "outputs": [],
   "source": [
    "# Train the model\n",
    "history = autoencoder.fit(\n",
    "    X_train, X_train,\n",
    "    epochs=50,\n",
    "    batch_size=32,\n",
    "    shuffle=True,\n",
    "    validation_data=(X_val, X_val),\n",
    "    verbose=0\n",
    ")"
   ]
  },
  {
   "cell_type": "code",
   "execution_count": 10,
   "id": "6fced6a7-202f-49c0-ac02-c881a120d67e",
   "metadata": {},
   "outputs": [
    {
     "data": {
      "image/png": "[encoded data removed]",
      "text/plain": [
       "<Figure size 640x480 with 1 Axes>"
      ]
     },
     "metadata": {},
     "output_type": "display_data"
    }
   ],
   "source": [
    "# Plot training loss\n",
    "plt.plot(history.history['loss'], label='Train Loss')\n",
    "plt.plot(history.history['val_loss'], label='Val Loss')\n",
    "plt.legend()\n",
    "plt.title('Autoencoder Training Loss')\n",
    "plt.show()"
   ]
  },
  {
   "cell_type": "code",
   "execution_count": 11,
   "id": "585e14a4-4b63-44b0-9ba3-dfcaa4da470b",
   "metadata": {},
   "outputs": [
    {
     "name": "stdout",
     "output_type": "stream",
     "text": [
      "\u001b[1m4298/4298\u001b[0m \u001b[32m━━━━━━━━━━━━━━━━━━━━\u001b[0m\u001b[37m\u001b[0m \u001b[1m4s\u001b[0m 974us/step\n"
     ]
    }
   ],
   "source": [
    "# Reconstruction error\n",
    "X_pred = autoencoder.predict(X_scaled)\n",
    "mse = np.mean(np.power(X_scaled - X_pred, 2), axis=1)"
   ]
  },
  {
   "cell_type": "code",
   "execution_count": 12,
   "id": "db1b9280-f210-4db8-b194-4a83aa9ce483",
   "metadata": {},
   "outputs": [],
   "source": [
    "# Add reconstruction error and anomaly label\n",
    "df['recon_error'] = mse"
   ]
  },
  {
   "cell_type": "code",
   "execution_count": 13,
   "id": "5b4fb52b-a152-4a81-8472-fee3691e52ce",
   "metadata": {},
   "outputs": [
    {
     "name": "stdout",
     "output_type": "stream",
     "text": [
      "0.002012576076366444\n"
     ]
    }
   ],
   "source": [
    "# Set threshold: e.g., 95th percentile\n",
    "threshold = np.percentile(mse, 95)\n",
    "df['is_anomaly_ae'] = (df['recon_error'] > threshold).astype(int)\n",
    "print(threshold)"
   ]
  },
  {
   "cell_type": "code",
   "execution_count": 14,
   "id": "1778599f-8dcc-4450-8480-8c3c945dba51",
   "metadata": {},
   "outputs": [
    {
     "name": "stdout",
     "output_type": "stream",
     "text": [
      "Autoencoder Anomalies Detected: 6872\n"
     ]
    }
   ],
   "source": [
    "# Summary\n",
    "print(\"Autoencoder Anomalies Detected:\", df['is_anomaly_ae'].sum())"
   ]
  },
  {
   "cell_type": "code",
   "execution_count": 15,
   "id": "2a7dce68-e4b7-425d-a04f-745299c9789f",
   "metadata": {},
   "outputs": [],
   "source": [
    "# Save\n",
    "df.to_csv('../data/processed/with_autoencoder.csv', index=False)"
   ]
  },
  {
   "cell_type": "markdown",
   "id": "c844a2d6-9e75-4b00-a1a3-73d917b3efd4",
   "metadata": {},
   "source": [
    "## Refining the model"
   ]
  },
  {
   "cell_type": "code",
   "execution_count": 22,
   "id": "2108d84f-2e19-4500-9eeb-6b5c45c2d39e",
   "metadata": {},
   "outputs": [
    {
     "name": "stdout",
     "output_type": "stream",
     "text": [
      "🔍 Best threshold: 0.0019860595209361\n",
      "F1 = 0.9250, Precision = 0.8605, Recall = 1.0000\n",
      "📊 Classification Report after Threshold Tuning (Autoencoder):\n",
      "              precision    recall  f1-score   support\n",
      "\n",
      "           0       0.90      0.60      0.72        15\n",
      "           1       0.86      0.97      0.91        37\n",
      "\n",
      "    accuracy                           0.87        52\n",
      "   macro avg       0.88      0.79      0.82        52\n",
      "weighted avg       0.87      0.87      0.86        52\n",
      "\n"
     ]
    }
   ],
   "source": [
    "from sklearn.metrics import precision_recall_curve\n",
    "from sklearn.metrics import classification_report\n",
    "import numpy as np\n",
    "\n",
    "# True labels and anomaly scores\n",
    "true_labels = merged_df['is_anomaly_ae_x']  # ✅ Ground truth\n",
    "recon_errors = merged_df['recon_error']     # ✅ Autoencoder reconstruction error\n",
    "\n",
    "# Compute precision, recall and thresholds\n",
    "prec, rec, thresholds = precision_recall_curve(true_labels, recon_errors)\n",
    "\n",
    "# Compute F1 scores\n",
    "f1_scores = 2 * (prec * rec) / (prec + rec + 1e-6)\n",
    "\n",
    "# Find the best threshold\n",
    "best_idx = f1_scores.argmax()\n",
    "best_threshold = thresholds[best_idx]\n",
    "print(\"🔍 Best threshold:\", best_threshold)\n",
    "print(f\"F1 = {f1_scores[best_idx]:.4f}, Precision = {prec[best_idx]:.4f}, Recall = {rec[best_idx]:.4f}\")\n",
    "\n",
    "# Apply the threshold to get new predictions\n",
    "merged_df['ae_pred_optimized'] = (merged_df['recon_error'] > best_threshold).astype(int)\n",
    "\n",
    "print(\"📊 Classification Report after Threshold Tuning (Autoencoder):\")\n",
    "print(classification_report(true_labels, merged_df['ae_pred_optimized']))"
   ]
  },
  {
   "cell_type": "code",
   "execution_count": 23,
   "id": "61d77ac3-eb6e-43d5-a6f2-bfa39b87bef1",
   "metadata": {},
   "outputs": [],
   "source": [
    "merged_df.to_csv('../data/processed/with_autoencoder_tuned.csv', index=False)"
   ]
  },
  {
   "cell_type": "code",
   "execution_count": null,
   "id": "fbe9af87-ed2f-4f8c-89d2-e1d8445b45d3",
   "metadata": {},
   "outputs": [],
   "source": []
  }
 ],
 "metadata": {
  "kernelspec": {
   "display_name": "Python 3 (ipykernel)",
   "language": "python",
   "name": "python3"
  },
  "language_info": {
   "codemirror_mode": {
    "name": "ipython",
    "version": 3
   },
   "file_extension": ".py",
   "mimetype": "text/x-python",
   "name": "python",
   "nbconvert_exporter": "python",
   "pygments_lexer": "ipython3",
   "version": "3.10.18"
  }
 },
 "nbformat": 4,
 "nbformat_minor": 5
}
