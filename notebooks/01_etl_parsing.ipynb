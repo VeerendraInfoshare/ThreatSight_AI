{
 "cells": [
  {
   "cell_type": "code",
   "execution_count": 1,
   "id": "b1949ee8-8a1a-4384-86ec-c0a664b05b24",
   "metadata": {},
   "outputs": [],
   "source": [
    "import re\n",
    "import pandas as pd\n",
    "from datetime import datetime"
   ]
  },
  {
   "cell_type": "code",
   "execution_count": 3,
   "id": "133c1a7e-2b6a-4056-8ce3-d6bbe38d830f",
   "metadata": {},
   "outputs": [
    {
     "data": {
      "text/plain": [
       "'../data/raw_logs/promjetDec2021.log'"
      ]
     },
     "execution_count": 3,
     "metadata": {},
     "output_type": "execute_result"
    }
   ],
   "source": [
    "# File path\n",
    "log_path = '../data/raw_logs/promjetDec2021.log'\n",
    "log_path"
   ]
  },
  {
   "cell_type": "code",
   "execution_count": 4,
   "id": "d6a72d11-e670-45f8-837c-5b8e45939586",
   "metadata": {},
   "outputs": [],
   "source": [
    "# Regular expression for Combined Log Format\n",
    "log_pattern = re.compile(\n",
    "    r'(?P<ip>\\S+) - - \\[(?P<timestamp>.*?)\\] \"(?P<method>\\S+) (?P<url>\\S+) \\S+\" '\n",
    "    r'(?P<status>\\d{3}) (?P<bytes>\\S+) \"(?P<referrer>.*?)\" \"(?P<user_agent>.*?)\"'\n",
    ")"
   ]
  },
  {
   "cell_type": "code",
   "execution_count": 5,
   "id": "8e4b078f-687a-4eb5-9f81-66473839372a",
   "metadata": {},
   "outputs": [],
   "source": [
    "# Load and parse log lines\n",
    "records = []\n",
    "with open(log_path, 'r', encoding='utf-8', errors='ignore') as f:\n",
    "    for line in f:\n",
    "        match = log_pattern.match(line)\n",
    "        if match:\n",
    "            data = match.groupdict()\n",
    "\n",
    "            # Handle \"-\" bytes field\n",
    "            if data['bytes'] == '-':\n",
    "                data['bytes'] = 0\n",
    "            else:\n",
    "                data['bytes'] = int(data['bytes'])\n",
    "\n",
    "            # Parse timestamp to datetime\n",
    "            try:\n",
    "                data['timestamp'] = datetime.strptime(data['timestamp'], \"%d/%b/%Y:%H:%M:%S %z\")\n",
    "            except Exception:\n",
    "                continue\n",
    "\n",
    "            records.append(data)"
   ]
  },
  {
   "cell_type": "code",
   "execution_count": 6,
   "id": "366da60c-70b5-466a-b2dc-48fda8e9ed0a",
   "metadata": {},
   "outputs": [],
   "source": [
    "# Create DataFrame\n",
    "df = pd.DataFrame(records)"
   ]
  },
  {
   "cell_type": "code",
   "execution_count": 7,
   "id": "c87f713e-480e-4bf0-9010-1d28f6f1fd1b",
   "metadata": {},
   "outputs": [],
   "source": [
    "# Add extra time-based features\n",
    "df['hour'] = df['timestamp'].dt.hour\n",
    "df['day'] = df['timestamp'].dt.day\n",
    "df['weekday'] = df['timestamp'].dt.weekday"
   ]
  },
  {
   "cell_type": "code",
   "execution_count": 8,
   "id": "e8d0e366-e730-4806-b862-86ecca31d3f5",
   "metadata": {},
   "outputs": [],
   "source": [
    "# Request length (URL length)\n",
    "df['url_length'] = df['url'].apply(len)"
   ]
  },
  {
   "cell_type": "code",
   "execution_count": 9,
   "id": "640eb9c4-afee-449c-93f9-7291c7d1d4e7",
   "metadata": {},
   "outputs": [
    {
     "data": {
      "text/html": [
       "<div>\n",
       "<style scoped>\n",
       "    .dataframe tbody tr th:only-of-type {\n",
       "        vertical-align: middle;\n",
       "    }\n",
       "\n",
       "    .dataframe tbody tr th {\n",
       "        vertical-align: top;\n",
       "    }\n",
       "\n",
       "    .dataframe thead th {\n",
       "        text-align: right;\n",
       "    }\n",
       "</style>\n",
       "<table border=\"1\" class=\"dataframe\">\n",
       "  <thead>\n",
       "    <tr style=\"text-align: right;\">\n",
       "      <th></th>\n",
       "      <th>ip</th>\n",
       "      <th>timestamp</th>\n",
       "      <th>method</th>\n",
       "      <th>url</th>\n",
       "      <th>status</th>\n",
       "      <th>bytes</th>\n",
       "      <th>referrer</th>\n",
       "      <th>user_agent</th>\n",
       "      <th>hour</th>\n",
       "      <th>day</th>\n",
       "      <th>weekday</th>\n",
       "      <th>url_length</th>\n",
       "    </tr>\n",
       "  </thead>\n",
       "  <tbody>\n",
       "    <tr>\n",
       "      <th>0</th>\n",
       "      <td>63.143.42.249</td>\n",
       "      <td>2021-11-30 15:08:14+03:00</td>\n",
       "      <td>GET</td>\n",
       "      <td>/</td>\n",
       "      <td>200</td>\n",
       "      <td>18648</td>\n",
       "      <td>http://promjet.ru</td>\n",
       "      <td>Mozilla/5.0+(compatible; UptimeRobot/2.0; http...</td>\n",
       "      <td>15</td>\n",
       "      <td>30</td>\n",
       "      <td>1</td>\n",
       "      <td>1</td>\n",
       "    </tr>\n",
       "    <tr>\n",
       "      <th>1</th>\n",
       "      <td>185.103.167.218</td>\n",
       "      <td>2021-11-30 15:10:19+03:00</td>\n",
       "      <td>GET</td>\n",
       "      <td>/jet/company/875.html</td>\n",
       "      <td>404</td>\n",
       "      <td>70695</td>\n",
       "      <td>-</td>\n",
       "      <td>Mozilla/5.0 (X11; Linux x86_64) AppleWebKit/53...</td>\n",
       "      <td>15</td>\n",
       "      <td>30</td>\n",
       "      <td>1</td>\n",
       "      <td>21</td>\n",
       "    </tr>\n",
       "    <tr>\n",
       "      <th>2</th>\n",
       "      <td>63.143.42.247</td>\n",
       "      <td>2021-11-30 15:10:34+03:00</td>\n",
       "      <td>HEAD</td>\n",
       "      <td>/</td>\n",
       "      <td>200</td>\n",
       "      <td>0</td>\n",
       "      <td>http://promjet.ru</td>\n",
       "      <td>Mozilla/5.0+(compatible; UptimeRobot/2.0; http...</td>\n",
       "      <td>15</td>\n",
       "      <td>30</td>\n",
       "      <td>1</td>\n",
       "      <td>1</td>\n",
       "    </tr>\n",
       "    <tr>\n",
       "      <th>3</th>\n",
       "      <td>93.84.69.87</td>\n",
       "      <td>2021-11-30 15:12:47+03:00</td>\n",
       "      <td>GET</td>\n",
       "      <td>/favicon.ico</td>\n",
       "      <td>200</td>\n",
       "      <td>0</td>\n",
       "      <td>-</td>\n",
       "      <td>Mozilla/5.0 (Windows NT 5.1; rv:52.0) Gecko/20...</td>\n",
       "      <td>15</td>\n",
       "      <td>30</td>\n",
       "      <td>1</td>\n",
       "      <td>12</td>\n",
       "    </tr>\n",
       "    <tr>\n",
       "      <th>4</th>\n",
       "      <td>93.84.69.87</td>\n",
       "      <td>2021-11-30 15:12:49+03:00</td>\n",
       "      <td>GET</td>\n",
       "      <td>/favicon.ico</td>\n",
       "      <td>200</td>\n",
       "      <td>0</td>\n",
       "      <td>-</td>\n",
       "      <td>Mozilla/5.0 (Windows NT 5.1; rv:52.0) Gecko/20...</td>\n",
       "      <td>15</td>\n",
       "      <td>30</td>\n",
       "      <td>1</td>\n",
       "      <td>12</td>\n",
       "    </tr>\n",
       "  </tbody>\n",
       "</table>\n",
       "</div>"
      ],
      "text/plain": [
       "                ip                 timestamp method                    url  \\\n",
       "0    63.143.42.249 2021-11-30 15:08:14+03:00    GET                      /   \n",
       "1  185.103.167.218 2021-11-30 15:10:19+03:00    GET  /jet/company/875.html   \n",
       "2    63.143.42.247 2021-11-30 15:10:34+03:00   HEAD                      /   \n",
       "3      93.84.69.87 2021-11-30 15:12:47+03:00    GET           /favicon.ico   \n",
       "4      93.84.69.87 2021-11-30 15:12:49+03:00    GET           /favicon.ico   \n",
       "\n",
       "  status  bytes           referrer  \\\n",
       "0    200  18648  http://promjet.ru   \n",
       "1    404  70695                  -   \n",
       "2    200      0  http://promjet.ru   \n",
       "3    200      0                  -   \n",
       "4    200      0                  -   \n",
       "\n",
       "                                          user_agent  hour  day  weekday  \\\n",
       "0  Mozilla/5.0+(compatible; UptimeRobot/2.0; http...    15   30        1   \n",
       "1  Mozilla/5.0 (X11; Linux x86_64) AppleWebKit/53...    15   30        1   \n",
       "2  Mozilla/5.0+(compatible; UptimeRobot/2.0; http...    15   30        1   \n",
       "3  Mozilla/5.0 (Windows NT 5.1; rv:52.0) Gecko/20...    15   30        1   \n",
       "4  Mozilla/5.0 (Windows NT 5.1; rv:52.0) Gecko/20...    15   30        1   \n",
       "\n",
       "   url_length  \n",
       "0           1  \n",
       "1          21  \n",
       "2           1  \n",
       "3          12  \n",
       "4          12  "
      ]
     },
     "execution_count": 9,
     "metadata": {},
     "output_type": "execute_result"
    }
   ],
   "source": [
    "df.head()"
   ]
  },
  {
   "cell_type": "code",
   "execution_count": 11,
   "id": "abc9d237-b006-4999-a663-b3df18e96276",
   "metadata": {},
   "outputs": [],
   "source": [
    "# Save parsed logs to CSV for further use\n",
    "df.to_csv('../data/processed/parsed_logs.csv', index=False)"
   ]
  },
  {
   "cell_type": "code",
   "execution_count": null,
   "id": "ad49d7c4-8a1a-4dbf-906d-d530b024ea44",
   "metadata": {},
   "outputs": [],
   "source": []
  }
 ],
 "metadata": {
  "kernelspec": {
   "display_name": "Python 3 (ipykernel)",
   "language": "python",
   "name": "python3"
  },
  "language_info": {
   "codemirror_mode": {
    "name": "ipython",
    "version": 3
   },
   "file_extension": ".py",
   "mimetype": "text/x-python",
   "name": "python",
   "nbconvert_exporter": "python",
   "pygments_lexer": "ipython3",
   "version": "3.13.5"
  }
 },
 "nbformat": 4,
 "nbformat_minor": 5
}
